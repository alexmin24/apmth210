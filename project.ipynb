{
 "cells": [
  {
   "cell_type": "code",
   "execution_count": 2,
   "id": "f403ba44-8777-430d-ac8b-a31c89e8239b",
   "metadata": {
    "pycharm": {
     "name": "#%%\n"
    },
    "tags": []
   },
   "outputs": [
    {
     "name": "stderr",
     "output_type": "stream",
     "text": [
      "2023-12-08 22:13:35.858331: I tensorflow/core/platform/cpu_feature_guard.cc:193] This TensorFlow binary is optimized with oneAPI Deep Neural Network Library (oneDNN) to use the following CPU instructions in performance-critical operations:  SSE4.1 SSE4.2 AVX AVX2 AVX512F AVX512_VNNI FMA\n",
      "To enable them in other operations, rebuild TensorFlow with the appropriate compiler flags.\n"
     ]
    }
   ],
   "source": [
    "import pandas as pd\n",
    "import numpy as np\n",
    "import tensorflow as tf\n",
    "from sympy.vector import CoordSys3D, Del\n",
    "from sympy import randMatrix\n",
    "from sympy import *\n",
    "from sympy.utilities.lambdify import implemented_function\n",
    "from sympy import lambdify\n",
    "from scipy.optimize import fsolve\n",
    "from scipy.optimize import minimize\n",
    "from scipy.optimize import root\n",
    "import matplotlib.pyplot as plt"
   ]
  },
  {
   "cell_type": "code",
   "execution_count": 7,
   "id": "414e5c2d-dcd7-4502-8108-61b500258905",
   "metadata": {
    "pycharm": {
     "name": "#%%\n"
    },
    "tags": []
   },
   "outputs": [],
   "source": [
    "def crit_points_quad(x_vals, eps = 1e-6):\n",
    "    # solutions = []\n",
    "    # zeros = []\n",
    "    # is_minimums = []\n",
    "    x_minima = []\n",
    "    f_minima = []\n",
    "\n",
    "    X = randMatrix(3, 1,  min = -10, max = 10)\n",
    "    Y = randMatrix(3, 1, min = -10, max = 10)\n",
    "    W0 = Matrix(symarray('w0', (3, 3)))\n",
    "    W1 = Matrix(symarray('w1', (3, 3)))\n",
    "\n",
    "    component = (W1 * ((W0 * X ).applyfunc(lambda x: x**2)))\n",
    "    #loss = (component - Y).norm() * (component - Y).norm()\n",
    "    loss = (component - Y).dot(component - Y)\n",
    "    vars = [W0[i,j] for i in range(3) for j in range(3)] + [W1[i,j] for i in range(3) for j in range(3)]\n",
    "\n",
    "    gradient = derive_by_array(loss, vars)\n",
    "    loss_lambdified = lambdify([vars], loss, \"scipy\")\n",
    "\n",
    "    f = lambdify([vars], gradient, \"scipy\")\n",
    "\n",
    "    for x in x_vals:\n",
    "\n",
    "        minimum_object = minimize(loss_lambdified, x, jac = f, method='Newton-CG', tol = 1e-10, options = {'xtol':0.0000001})\n",
    "        x_minimum = minimum_object['x']\n",
    "\n",
    "        if minimum_object['success'] == True:\n",
    "            f_minimum = minimum_object['fun']\n",
    "\n",
    "            if len(x_minima) == 0 or (not (np.any(np.all(np.isclose(x_minimum, np.array(x_minima), atol = 20), axis=1))) and not (np.any(np.isclose(f_minimum, np.array(f_minima), atol = 20), axis = 0))):\n",
    "                x_minima.append(x_minimum)\n",
    "\n",
    "                f_minima.append(f_minimum)\n",
    "\n",
    "    return x_minima, f_minima\n"
   ]
  },
  {
   "cell_type": "code",
   "execution_count": 8,
   "outputs": [
    {
     "name": "stdout",
     "output_type": "stream",
     "text": [
      "0\n",
      "1\n",
      "2\n",
      "3\n",
      "4\n",
      "5\n",
      "6\n",
      "7\n",
      "8\n",
      "9\n",
      "10\n",
      "11\n",
      "12\n",
      "13\n",
      "14\n",
      "15\n",
      "16\n",
      "17\n",
      "18\n",
      "19\n",
      "20\n",
      "21\n",
      "22\n",
      "23\n",
      "24\n",
      "25\n",
      "26\n",
      "27\n",
      "28\n",
      "29\n",
      "30\n",
      "31\n",
      "32\n",
      "33\n",
      "34\n",
      "35\n",
      "36\n",
      "37\n",
      "38\n",
      "39\n",
      "40\n",
      "41\n",
      "42\n",
      "43\n",
      "44\n",
      "45\n",
      "46\n",
      "47\n",
      "48\n",
      "49\n",
      "50\n",
      "51\n",
      "52\n",
      "53\n",
      "54\n",
      "55\n",
      "56\n",
      "57\n",
      "58\n",
      "59\n",
      "60\n",
      "61\n",
      "62\n",
      "63\n",
      "64\n",
      "65\n",
      "66\n",
      "67\n",
      "68\n",
      "69\n",
      "70\n",
      "71\n",
      "72\n",
      "73\n",
      "74\n",
      "75\n",
      "76\n",
      "77\n",
      "78\n",
      "79\n",
      "80\n",
      "81\n",
      "82\n",
      "83\n",
      "84\n",
      "85\n",
      "86\n",
      "87\n",
      "88\n",
      "89\n",
      "90\n",
      "91\n",
      "92\n",
      "93\n",
      "94\n",
      "95\n",
      "96\n",
      "97\n",
      "98\n",
      "99\n"
     ]
    }
   ],
   "source": [
    "x_minima = []\n",
    "f_minima = []\n",
    "\n",
    "x_vals = np.linspace(-50, 50, 25)\n",
    "\n",
    "for i in range(100):\n",
    "    print(i)\n",
    "    x_minimum, f_minimum = crit_points_quad(np.repeat(x_vals[:, np.newaxis], 3*3 + 3*3, axis=1))\n",
    "\n",
    "    x_minima.append(x_minimum)\n",
    "    f_minima.append(f_minimum)"
   ],
   "metadata": {
    "collapsed": false,
    "pycharm": {
     "name": "#%%\n"
    }
   }
  },
  {
   "cell_type": "code",
   "execution_count": 17,
   "outputs": [],
   "source": [
    "def crit_points_relu(x_vals, eps = 1e-6):\n",
    "    # solutions = []\n",
    "    # zeros = []\n",
    "    # is_minimums = []\n",
    "    x_minima = []\n",
    "    f_minima = []\n",
    "\n",
    "    X = randMatrix(3, 1,  min = -10, max = 10)\n",
    "    Y = randMatrix(3, 1, min = -10, max = 10)\n",
    "    W0 = Matrix(symarray('w0', (3, 3)))\n",
    "    W1 = Matrix(symarray('w1', (3, 3)))\n",
    "\n",
    "    component = (W1 * ((W0 * X ).applyfunc(lambda x: np.max(x, 0))))\n",
    "    #loss = (component - Y).norm() * (component - Y).norm()\n",
    "    loss = (component - Y).dot(component - Y)\n",
    "    vars = [W0[i,j] for i in range(3) for j in range(3)] + [W1[i,j] for i in range(3) for j in range(3)]\n",
    "\n",
    "    gradient = derive_by_array(loss, vars)\n",
    "    loss_lambdified = lambdify([vars], loss, \"scipy\")\n",
    "\n",
    "    f = lambdify([vars], gradient, \"scipy\")\n",
    "\n",
    "    for x in x_vals:\n",
    "\n",
    "        minimum_object = minimize(loss_lambdified, x, jac = f, method='Newton-CG', tol = 1e-10, options = {'xtol':0.0000001})\n",
    "        x_minimum = minimum_object['x']\n",
    "\n",
    "        if minimum_object['success'] == True:\n",
    "            f_minimum = minimum_object['fun']\n",
    "\n",
    "            if len(x_minima) == 0 or (not (np.any(np.all(np.isclose(x_minimum, np.array(x_minima), atol = 20), axis=1))) and not (np.any(np.isclose(f_minimum, np.array(f_minima), atol = 20), axis = 0))):\n",
    "                x_minima.append(x_minimum)\n",
    "                f_minima.append(f_minimum)\n",
    "\n",
    "    #res = minimize(loss_lambdified, [1 for i in range(len(vars))], method='BFGS')\n",
    "    return x_minima, f_minima\n"
   ],
   "metadata": {
    "collapsed": false,
    "pycharm": {
     "name": "#%%\n"
    }
   }
  },
  {
   "cell_type": "code",
   "execution_count": 19,
   "outputs": [
    {
     "name": "stdout",
     "output_type": "stream",
     "text": [
      "0\n",
      "1\n",
      "2\n",
      "3\n",
      "4\n",
      "5\n",
      "6\n",
      "7\n",
      "8\n",
      "9\n",
      "10\n",
      "11\n",
      "12\n",
      "13\n",
      "14\n",
      "15\n",
      "16\n",
      "17\n",
      "18\n",
      "19\n",
      "20\n",
      "21\n",
      "22\n",
      "23\n",
      "24\n",
      "25\n",
      "26\n",
      "27\n",
      "28\n",
      "29\n",
      "30\n",
      "31\n",
      "32\n",
      "33\n",
      "34\n",
      "35\n",
      "36\n",
      "37\n",
      "38\n",
      "39\n",
      "40\n",
      "41\n",
      "42\n",
      "43\n",
      "44\n",
      "45\n",
      "46\n",
      "47\n",
      "48\n",
      "49\n",
      "50\n",
      "51\n",
      "52\n",
      "53\n",
      "54\n",
      "55\n",
      "56\n",
      "57\n",
      "58\n",
      "59\n",
      "60\n",
      "61\n",
      "62\n",
      "63\n",
      "64\n",
      "65\n",
      "66\n",
      "67\n",
      "68\n",
      "69\n",
      "70\n",
      "71\n",
      "72\n",
      "73\n",
      "74\n",
      "75\n",
      "76\n",
      "77\n",
      "78\n",
      "79\n",
      "80\n",
      "81\n",
      "82\n",
      "83\n",
      "84\n",
      "85\n",
      "86\n",
      "87\n",
      "88\n",
      "89\n",
      "90\n",
      "91\n",
      "92\n",
      "93\n",
      "94\n",
      "95\n",
      "96\n",
      "97\n",
      "98\n",
      "99\n"
     ]
    }
   ],
   "source": [
    "x_minima_relu = []\n",
    "f_minima_relu = []\n",
    "\n",
    "x_vals = np.linspace(-50, 50, 25)\n",
    "\n",
    "for i in range(100):\n",
    "    print(i)\n",
    "    x_minimum, f_minimum = crit_points_relu(np.repeat(x_vals[:, np.newaxis], 3*3 + 3*3, axis=1))\n",
    "    # roots.append(solution)\n",
    "    # at_roots.append(d)\n",
    "    # minima.append(x)\n",
    "    # at_minima.append(fun)\n",
    "    x_minima_relu.append(x_minimum)\n",
    "    f_minima_relu.append(f_minimum)"
   ],
   "metadata": {
    "collapsed": false,
    "pycharm": {
     "name": "#%%\n"
    }
   }
  },
  {
   "cell_type": "code",
   "execution_count": 16,
   "outputs": [
    {
     "data": {
      "text/plain": "<Figure size 640x480 with 1 Axes>",
      "image/png": "[encoded data removed]"
     },
     "metadata": {},
     "output_type": "display_data"
    }
   ],
   "source": [
    "plt.hist([len(i) for i in x_minima], [0.5, 1.5, 2.5, 3.5, 4.5], edgecolor = \"white\")\n",
    "plt.xlabel(\"Number of Local Minima\")\n",
    "plt.ylabel(\"Count\")\n",
    "plt.title(\"Local Minima (Found Using Numerical Methods), Quadratic Activation\")\n",
    "plt.xticks(np.arange(0, 5, step=1))\n",
    "plt.savefig(\"minima.png\")"
   ],
   "metadata": {
    "collapsed": false,
    "pycharm": {
     "name": "#%%\n"
    }
   }
  },
  {
   "cell_type": "code",
   "execution_count": 21,
   "outputs": [
    {
     "data": {
      "text/plain": "<Figure size 640x480 with 1 Axes>",
      "image/png": "[encoded data removed]"
     },
     "metadata": {},
     "output_type": "display_data"
    }
   ],
   "source": [
    "plt.hist([len(i) for i in x_minima_relu], [0.5, 1.5, 2.5, 3.5, 4.5], edgecolor = \"white\")\n",
    "plt.xlabel(\"Number of Local Minima\")\n",
    "plt.ylabel(\"Count\")\n",
    "plt.title(\"Local Minima (Found Using Numerical Methods), ReLU Activation\")\n",
    "plt.xticks(np.arange(0, 5, step=1))\n",
    "plt.savefig(\"minima_relu.png\")\n"
   ],
   "metadata": {
    "collapsed": false,
    "pycharm": {
     "name": "#%%\n"
    }
   }
  },
  {
   "cell_type": "code",
   "execution_count": 487,
   "outputs": [
    {
     "name": "stdout",
     "output_type": "stream",
     "text": [
      "0\n",
      "1\n",
      "2\n",
      "3\n",
      "4\n",
      "5\n",
      "6\n",
      "7\n",
      "8\n",
      "9\n",
      "10\n",
      "11\n",
      "12\n",
      "13\n",
      "14\n",
      "15\n",
      "16\n",
      "17\n",
      "18\n",
      "19\n",
      "20\n",
      "21\n",
      "22\n",
      "23\n",
      "24\n",
      "25\n",
      "26\n",
      "27\n",
      "28\n",
      "29\n",
      "30\n",
      "31\n",
      "32\n",
      "33\n",
      "34\n",
      "35\n",
      "36\n",
      "37\n",
      "38\n",
      "39\n",
      "40\n",
      "41\n",
      "42\n",
      "43\n",
      "44\n",
      "45\n",
      "46\n",
      "47\n",
      "48\n",
      "49\n",
      "50\n",
      "51\n",
      "52\n",
      "53\n",
      "54\n",
      "55\n",
      "56\n",
      "57\n",
      "58\n",
      "59\n",
      "60\n",
      "61\n",
      "62\n",
      "63\n",
      "64\n",
      "65\n",
      "66\n",
      "67\n",
      "68\n",
      "69\n",
      "70\n",
      "71\n",
      "72\n",
      "73\n",
      "74\n",
      "75\n",
      "76\n",
      "77\n",
      "78\n",
      "79\n",
      "80\n",
      "81\n",
      "82\n",
      "83\n",
      "84\n",
      "85\n",
      "86\n",
      "87\n",
      "88\n",
      "89\n",
      "90\n",
      "91\n",
      "92\n",
      "93\n",
      "94\n",
      "95\n",
      "96\n",
      "97\n",
      "98\n",
      "99\n",
      "100\n",
      "101\n",
      "102\n",
      "103\n",
      "104\n",
      "105\n",
      "106\n",
      "107\n",
      "108\n",
      "109\n",
      "110\n",
      "111\n",
      "112\n",
      "113\n",
      "114\n",
      "115\n",
      "116\n",
      "117\n",
      "118\n",
      "119\n",
      "120\n",
      "121\n",
      "122\n",
      "123\n",
      "124\n",
      "125\n",
      "126\n",
      "127\n",
      "128\n",
      "129\n",
      "130\n",
      "131\n",
      "132\n",
      "133\n",
      "134\n",
      "135\n",
      "136\n",
      "137\n",
      "138\n",
      "139\n",
      "140\n",
      "141\n",
      "142\n",
      "143\n",
      "144\n",
      "145\n",
      "146\n",
      "147\n",
      "148\n",
      "149\n",
      "150\n",
      "151\n",
      "152\n",
      "153\n",
      "154\n",
      "155\n",
      "156\n",
      "157\n",
      "158\n",
      "159\n",
      "160\n",
      "161\n",
      "162\n",
      "163\n",
      "164\n",
      "165\n",
      "166\n",
      "167\n",
      "168\n",
      "169\n",
      "170\n",
      "171\n",
      "172\n",
      "173\n",
      "174\n",
      "175\n",
      "176\n",
      "177\n",
      "178\n",
      "179\n",
      "180\n",
      "181\n",
      "182\n",
      "183\n",
      "184\n",
      "185\n",
      "186\n",
      "187\n",
      "188\n",
      "189\n",
      "190\n",
      "191\n",
      "192\n",
      "193\n",
      "194\n",
      "195\n",
      "196\n",
      "197\n",
      "198\n",
      "199\n",
      "200\n",
      "201\n",
      "202\n",
      "203\n",
      "204\n",
      "205\n",
      "206\n",
      "207\n",
      "208\n",
      "209\n",
      "210\n",
      "211\n",
      "212\n",
      "213\n",
      "214\n",
      "215\n",
      "216\n",
      "217\n",
      "218\n",
      "219\n",
      "220\n",
      "221\n",
      "222\n",
      "223\n",
      "224\n",
      "225\n",
      "226\n",
      "227\n",
      "228\n",
      "229\n",
      "230\n",
      "231\n",
      "232\n",
      "233\n",
      "234\n",
      "235\n",
      "236\n",
      "237\n",
      "238\n",
      "239\n",
      "240\n",
      "241\n",
      "242\n",
      "243\n",
      "244\n",
      "245\n",
      "246\n",
      "247\n",
      "248\n",
      "249\n"
     ]
    }
   ],
   "source": [
    "def crit_points_lin(x_vals, eps = 1e-6):\n",
    "    x_minima = []\n",
    "    f_minima = []\n",
    "\n",
    "    X = randMatrix(3, 1,  min = -10, max = 10)\n",
    "    Y = randMatrix(3, 1, min = -10, max = 10)\n",
    "    W0 = Matrix(symarray('w0', (3, 3)))\n",
    "    W1 = Matrix(symarray('w1', (3, 3)))\n",
    "\n",
    "    component = W1 * W0 * X\n",
    "    loss = (component - Y).dot(component - Y)\n",
    "    vars = [W0[i,j] for i in range(3) for j in range(3)] + [W1[i,j] for i in range(3) for j in range(3)]\n",
    "\n",
    "    gradient = derive_by_array(loss, vars)\n",
    "    loss_lambdified = lambdify([vars], loss, \"scipy\")\n",
    "\n",
    "    f = lambdify([vars], gradient, \"scipy\")\n",
    "\n",
    "    for x in x_vals:\n",
    "\n",
    "        minimum_object = minimize(loss_lambdified, x, jac = f, method='Newton-CG', tol = 1e-10, options = {'xtol':0.00000001})\n",
    "        x_minimum = minimum_object['x']\n",
    "\n",
    "        if minimum_object['success'] == True:\n",
    "            f_minimum = minimum_object['fun']\n",
    "\n",
    "            if len(x_minima) == 0 or (not (np.any(np.all(np.isclose(x_minimum, np.array(x_minima), atol = 20), axis=1))) and not (np.any(np.isclose(f_minimum, np.array(f_minima), atol = 20), axis = 0))):\n",
    "                x_minima.append(x_minimum)\n",
    "                f_minima.append(f_minimum)\n",
    "\n",
    "    #res = minimize(loss_lambdified, [1 for i in range(len(vars))], method='BFGS')\n",
    "    return x_minima, f_minima\n",
    "\n",
    "x_minima_lin = []\n",
    "f_minima_lin = []\n",
    "\n",
    "x_vals = np.linspace(-50, 50, 25)\n",
    "\n",
    "for i in range(250):\n",
    "    print(i)\n",
    "    x_minimum, f_minimum = crit_points_lin(np.repeat(x_vals[:, np.newaxis], len(vars), axis=1))\n",
    "\n",
    "    x_minima_lin.append(x_minimum)\n",
    "    f_minima_lin.append(f_minimum)"
   ],
   "metadata": {
    "collapsed": false,
    "pycharm": {
     "name": "#%%\n"
    }
   }
  },
  {
   "cell_type": "code",
   "execution_count": 371,
   "outputs": [
    {
     "data": {
      "text/plain": "  message: Desired error not necessarily achieved due to precision loss.\n  success: False\n   status: 2\n      fun: 2.1056637579039277e-05\n        x: [-1.338e+01 -3.143e+01 ... -3.023e+01 -3.369e+01]\n      nit: 16\n      jac: [ 3.379e+00  4.735e+00 ... -1.555e-01  3.148e-01]\n hess_inv: [[ 7.585e-01 -3.208e-01 ...  5.532e-03 -1.949e-03]\n            [-3.208e-01  6.030e-01 ...  1.869e-02 -2.783e-03]\n            ...\n            [ 5.532e-03  1.869e-02 ...  1.019e-01  1.060e-01]\n            [-1.949e-03 -2.783e-03 ...  1.060e-01  1.407e-01]]\n     nfev: 1550\n     njev: 81"
     },
     "execution_count": 371,
     "metadata": {},
     "output_type": "execute_result"
    }
   ],
   "source": [
    "X = randMatrix(3, 1,  min = -10, max = 10)\n",
    "Y = randMatrix(3, 1, min = -10, max = 10)\n",
    "W0 = Matrix(symarray('w0', (3, 3)))\n",
    "W1 = Matrix(symarray('w1', (3, 3)))\n",
    "\n",
    "component = W1 * W0 * X\n",
    "loss = (component - Y).dot(component - Y)\n",
    "vars = [W0[i,j] for i in range(3) for j in range(3)] + [W1[i,j] for i in range(3) for j in range(3)]\n",
    "\n",
    "gradient = derive_by_array(loss, vars)\n",
    "loss_lambdified = lambdify([vars], loss, \"scipy\")\n",
    "\n",
    "f = lambdify([vars], gradient, \"scipy\")\n",
    "\n",
    "minimize(loss_lambdified, [-50 for i in range(len(vars))], method='BFGS')"
   ],
   "metadata": {
    "collapsed": false,
    "pycharm": {
     "name": "#%%\n"
    }
   }
  },
  {
   "cell_type": "code",
   "execution_count": 485,
   "outputs": [
    {
     "data": {
      "text/plain": "[[0.0002379290382638874, 126.0],\n [0.19912697901045304, 110.0],\n [95.99999339204751, 2.1738023727478772e-13],\n [1.494515699629203e-07],\n [120.56316255136215, 0.4240773313110452]]"
     },
     "execution_count": 485,
     "metadata": {},
     "output_type": "execute_result"
    }
   ],
   "source": [
    "f_minima_lin"
   ],
   "metadata": {
    "collapsed": false,
    "pycharm": {
     "name": "#%%\n"
    }
   }
  },
  {
   "cell_type": "code",
   "execution_count": 445,
   "outputs": [],
   "source": [
    "x_minimum = x_minima_lin[0][1]\n",
    "tester = [x_minima_lin[0][0]]"
   ],
   "metadata": {
    "collapsed": false,
    "pycharm": {
     "name": "#%%\n"
    }
   }
  },
  {
   "cell_type": "code",
   "execution_count": 446,
   "outputs": [
    {
     "data": {
      "text/plain": "(15, 18)"
     },
     "execution_count": 446,
     "metadata": {},
     "output_type": "execute_result"
    }
   ],
   "source": [
    "np.array(x_minima_lin[0]).shape"
   ],
   "metadata": {
    "collapsed": false,
    "pycharm": {
     "name": "#%%\n"
    }
   }
  },
  {
   "cell_type": "code",
   "execution_count": 436,
   "outputs": [
    {
     "name": "stdout",
     "output_type": "stream",
     "text": [
      "False\n"
     ]
    }
   ],
   "source": [
    "print(np.any(np.all(np.isclose(x_minimum, np.array(x_minima_lin[0]), atol = 10))))"
   ],
   "metadata": {
    "collapsed": false,
    "pycharm": {
     "name": "#%%\n"
    }
   }
  },
  {
   "cell_type": "code",
   "execution_count": 440,
   "outputs": [
    {
     "name": "stdout",
     "output_type": "stream",
     "text": [
      "[ True  True  True False False False False False False False False False\n",
      " False False False False False False False False False False False False\n",
      " False]\n"
     ]
    }
   ],
   "source": [
    "print(np.all(np.isclose(x_minimum, x_minima_lin[0], atol = 10), axis = 1))"
   ],
   "metadata": {
    "collapsed": false,
    "pycharm": {
     "name": "#%%\n"
    }
   }
  },
  {
   "cell_type": "code",
   "execution_count": 408,
   "outputs": [
    {
     "ename": "ValueError",
     "evalue": "setting an array element with a sequence. The requested array has an inhomogeneous shape after 1 dimensions. The detected shape was (250,) + inhomogeneous part.",
     "output_type": "error",
     "traceback": [
      "\u001B[0;31m---------------------------------------------------------------------------\u001B[0m",
      "\u001B[0;31mValueError\u001B[0m                                Traceback (most recent call last)",
      "Cell \u001B[0;32mIn[408], line 1\u001B[0m\n\u001B[0;32m----> 1\u001B[0m \u001B[38;5;28mprint\u001B[39m(np\u001B[38;5;241m.\u001B[39many(np\u001B[38;5;241m.\u001B[39mall(\u001B[43mnp\u001B[49m\u001B[38;5;241;43m.\u001B[39;49m\u001B[43misclose\u001B[49m\u001B[43m(\u001B[49m\u001B[43mx_minima\u001B[49m\u001B[43m[\u001B[49m\u001B[38;5;241;43m0\u001B[39;49m\u001B[43m]\u001B[49m\u001B[43m[\u001B[49m\u001B[38;5;241;43m0\u001B[39;49m\u001B[43m]\u001B[49m\u001B[43m,\u001B[49m\u001B[43m \u001B[49m\u001B[43mx_minima\u001B[49m\u001B[43m,\u001B[49m\u001B[43m \u001B[49m\u001B[43matol\u001B[49m\u001B[43m \u001B[49m\u001B[38;5;241;43m=\u001B[39;49m\u001B[43m \u001B[49m\u001B[38;5;241;43m10\u001B[39;49m\u001B[43m,\u001B[49m\u001B[43m \u001B[49m\u001B[43mrtol\u001B[49m\u001B[43m \u001B[49m\u001B[38;5;241;43m=\u001B[39;49m\u001B[43m \u001B[49m\u001B[38;5;241;43m10\u001B[39;49m\u001B[43m)\u001B[49m, axis \u001B[38;5;241m=\u001B[39m \u001B[38;5;241m1\u001B[39m)))\n",
      "File \u001B[0;32m<__array_function__ internals>:200\u001B[0m, in \u001B[0;36misclose\u001B[0;34m(*args, **kwargs)\u001B[0m\n",
      "File \u001B[0;32m/opt/anaconda3/envs/cs109b/lib/python3.10/site-packages/numpy/core/numeric.py:2364\u001B[0m, in \u001B[0;36misclose\u001B[0;34m(a, b, rtol, atol, equal_nan)\u001B[0m\n\u001B[1;32m   2361\u001B[0m         \u001B[38;5;28;01mreturn\u001B[39;00m less_equal(\u001B[38;5;28mabs\u001B[39m(x\u001B[38;5;241m-\u001B[39my), atol \u001B[38;5;241m+\u001B[39m rtol \u001B[38;5;241m*\u001B[39m \u001B[38;5;28mabs\u001B[39m(y))\n\u001B[1;32m   2363\u001B[0m x \u001B[38;5;241m=\u001B[39m asanyarray(a)\n\u001B[0;32m-> 2364\u001B[0m y \u001B[38;5;241m=\u001B[39m \u001B[43masanyarray\u001B[49m\u001B[43m(\u001B[49m\u001B[43mb\u001B[49m\u001B[43m)\u001B[49m\n\u001B[1;32m   2366\u001B[0m \u001B[38;5;66;03m# Make sure y is an inexact type to avoid bad behavior on abs(MIN_INT).\u001B[39;00m\n\u001B[1;32m   2367\u001B[0m \u001B[38;5;66;03m# This will cause casting of x later. Also, make sure to allow subclasses\u001B[39;00m\n\u001B[1;32m   2368\u001B[0m \u001B[38;5;66;03m# (e.g., for numpy.ma).\u001B[39;00m\n\u001B[0;32m   (...)\u001B[0m\n\u001B[1;32m   2371\u001B[0m \u001B[38;5;66;03m#       timedelta works if `atol` is an integer or also a timedelta.\u001B[39;00m\n\u001B[1;32m   2372\u001B[0m \u001B[38;5;66;03m#       Although, the default tolerances are unlikely to be useful\u001B[39;00m\n\u001B[1;32m   2373\u001B[0m \u001B[38;5;28;01mif\u001B[39;00m y\u001B[38;5;241m.\u001B[39mdtype\u001B[38;5;241m.\u001B[39mkind \u001B[38;5;241m!=\u001B[39m \u001B[38;5;124m\"\u001B[39m\u001B[38;5;124mm\u001B[39m\u001B[38;5;124m\"\u001B[39m:\n",
      "\u001B[0;31mValueError\u001B[0m: setting an array element with a sequence. The requested array has an inhomogeneous shape after 1 dimensions. The detected shape was (250,) + inhomogeneous part."
     ]
    }
   ],
   "source": [
    "print(np.any(np.all(np.isclose(x_minima[0][0], x_minima, atol = 10, rtol = 10), axis = 1)))"
   ],
   "metadata": {
    "collapsed": false,
    "pycharm": {
     "name": "#%%\n"
    }
   }
  },
  {
   "cell_type": "code",
   "execution_count": 488,
   "outputs": [
    {
     "data": {
      "text/plain": "<Figure size 640x480 with 1 Axes>",
      "image/png": "[encoded data removed]"
     },
     "metadata": {},
     "output_type": "display_data"
    }
   ],
   "source": [
    "plt.hist([len(i) for i in x_minima_lin])\n",
    "plt.xlabel(\"Number of Local Minima\")\n",
    "plt.ylabel(\"Count\")\n",
    "plt.title(\"Local Minima (Found Using Numerical Methods), Linear Activation\")\n",
    "plt.savefig(\"minima_linear.png\")"
   ],
   "metadata": {
    "collapsed": false,
    "pycharm": {
     "name": "#%%\n"
    }
   }
  },
  {
   "cell_type": "code",
   "execution_count": null,
   "outputs": [],
   "source": [],
   "metadata": {
    "collapsed": false,
    "pycharm": {
     "name": "#%%\n"
    }
   }
  }
 ],
 "metadata": {
  "kernelspec": {
   "display_name": "Python 3 (ipykernel)",
   "language": "python",
   "name": "python3"
  },
  "language_info": {
   "codemirror_mode": {
    "name": "ipython",
    "version": 3
   },
   "file_extension": ".py",
   "mimetype": "text/x-python",
   "name": "python",
   "nbconvert_exporter": "python",
   "pygments_lexer": "ipython3",
   "version": "3.10.9"
  }
 },
 "nbformat": 4,
 "nbformat_minor": 5
}